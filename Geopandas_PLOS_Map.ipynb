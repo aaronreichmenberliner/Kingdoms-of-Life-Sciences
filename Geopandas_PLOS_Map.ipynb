{
 "cells": [
  {
   "cell_type": "code",
   "execution_count": null,
   "metadata": {
    "pycharm": {
     "is_executing": true
    }
   },
   "outputs": [],
   "source": [
    "import geopandas as gpd\n",
    "import numpy as np\n",
    "import pandas as pd\n",
    "import matplotlib.pyplot as plt\n",
    "import seaborn as sns\n",
    "sns.set_theme(style='ticks')"
   ]
  },
  {
   "cell_type": "markdown",
   "metadata": {},
   "source": [
    "# Read in Data"
   ]
  },
  {
   "cell_type": "code",
   "execution_count": null,
   "metadata": {
    "pycharm": {
     "is_executing": true
    }
   },
   "outputs": [],
   "source": [
    "df = pd.read_excel('Data Collection for AB-BA-SBE (9).xlsx', sheet_name='Research_Short_Term') #read in colleges dataframe\n",
    "df = df[pd.to_numeric(df['Latitude'], errors3='coerce').notnull()] #clean df\n",
    "gdf = gpd.GeoDataFrame(\n",
    "    df, geometry=gpd.points_from_xy(df.Longitude, df.Latitude)) #convert to GeoDataFrame so we can use gpd plotting\n",
    "\n",
    "usa_can = gpd.read_file('states_provinces/ne_10m_admin_1_states_provinces.shp') #create GeoDataFrame of world regions\n",
    "\n",
    "usa_can = usa_can.loc[(usa_can.admin=='Canada') | (usa_can.admin=='United States of America') & (usa_can.name!='Hawaii') & (usa_can.name!='Alaska') ]\n",
    "#^ select only Canada and the USA, drop Hawaii and Alaska because no research output and for aesthetic purposes"
   ]
  },
  {
   "cell_type": "markdown",
   "metadata": {},
   "source": [
    "# Plot"
   ]
  },
  {
   "cell_type": "code",
   "execution_count": null,
   "metadata": {
    "pycharm": {
     "is_executing": true
    }
   },
   "outputs": [],
   "source": [
    "fig, ax = plt.subplots(figsize=(9, 10))\n",
    "fig.tight_layout()\n",
    "ax.set_title('Map of Space Biosciences in Canada and the Contiguous United States', fontsize=12)\n",
    "usa_can.plot(ax=ax, edgecolor='black', color='white', linestyle=':') #Plots the background map (i.e. states)\n",
    "gdf.plot(ax=ax, cmap='plasma', column='Discipline', legend=True, alpha=0.4) #Plots the colleges\n"
   ]
  },
  {
   "cell_type": "code",
   "execution_count": null,
   "outputs": [],
   "source": [],
   "metadata": {
    "collapsed": false
   }
  }
 ],
 "metadata": {
  "kernelspec": {
   "display_name": "python3.9.12",
   "language": "python",
   "name": "python3.9.12"
  },
  "language_info": {
   "codemirror_mode": {
    "name": "ipython",
    "version": 3
   },
   "file_extension": ".py",
   "mimetype": "text/x-python",
   "name": "python",
   "nbconvert_exporter": "python",
   "pygments_lexer": "ipython3",
   "version": "3.9.12"
  }
 },
 "nbformat": 4,
 "nbformat_minor": 2
}
